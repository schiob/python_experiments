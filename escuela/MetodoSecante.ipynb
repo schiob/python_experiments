{
 "metadata": {
  "name": "",
  "signature": "sha256:6e2dcdd093bcf2517a83751ab6f438ea9302a8bfa2b6c0c37766c2395fc7973e"
 },
 "nbformat": 3,
 "nbformat_minor": 0,
 "worksheets": [
  {
   "cells": [
    {
     "cell_type": "code",
     "collapsed": false,
     "input": [
      "def fun(x):\n",
      "    return (x**3)-(2*x)-1"
     ],
     "language": "python",
     "metadata": {},
     "outputs": [],
     "prompt_number": 3
    },
    {
     "cell_type": "code",
     "collapsed": false,
     "input": [
      "def evalFun(inter):\n",
      "    for x in inter:\n",
      "        print(fun(x))"
     ],
     "language": "python",
     "metadata": {},
     "outputs": [],
     "prompt_number": 4
    },
    {
     "cell_type": "code",
     "collapsed": false,
     "input": [
      "def metSec(x0, x1):\n",
      "    return x1- (((x1-x0)/(fun(x1)-fun(x0))) *fun(x1)) "
     ],
     "language": "python",
     "metadata": {},
     "outputs": [],
     "prompt_number": 5
    },
    {
     "cell_type": "code",
     "collapsed": false,
     "input": [
      "def evalErr(x0,x1):\n",
      "    return abs(x1-x0)"
     ],
     "language": "python",
     "metadata": {},
     "outputs": [],
     "prompt_number": 6
    },
    {
     "cell_type": "code",
     "collapsed": false,
     "input": [
      "x0 = 1\n",
      "x1 = 2\n",
      "inter = [0,.5,1,1.5,2]\n",
      "tole = .01\n",
      "\n",
      "evalFun(inter)\n",
      "print('='*20)\n",
      "print('x0 = {}\\nx1 = {}'.format(x0, x1))\n",
      "print('='*20)\n",
      "\n",
      "cont = 1\n",
      "while(evalErr(x0,x1) > tole):\n",
      "#for y in range(10):\n",
      "    print('-'*50)\n",
      "    aux = x1\n",
      "    x1 = metSec(x0,x1)\n",
      "    x0 = aux\n",
      "    print('inter No.{}'.format(cont))\n",
      "    print('x{} = {}\\nx{} = {}'.format(cont, x0, cont+1 , x1))\n",
      "    print('Error = {}'.format(evalErr(x0,x1)))\n",
      "    print('Resultado f(Xi)= {}'.format(fun(x1)))\n",
      "    cont +=1"
     ],
     "language": "python",
     "metadata": {},
     "outputs": [
      {
       "output_type": "stream",
       "stream": "stdout",
       "text": [
        "-1\n",
        "-1.875\n",
        "-2\n",
        "-0.625\n",
        "3\n",
        "====================\n",
        "x0 = 1\n",
        "x1 = 2\n",
        "====================\n",
        "--------------------------------------------------\n",
        "inter No.1\n",
        "x1 = 2\n",
        "x2 = 1.4\n",
        "Error = 0.6000000000000001\n",
        "Resultado f(Xi)= -1.0560000000000005\n",
        "--------------------------------------------------\n",
        "inter No.2\n",
        "x2 = 1.4\n",
        "x3 = 1.5562130177514792\n",
        "Error = 0.15621301775147933\n",
        "Resultado f(Xi)= -0.3435909728352624\n",
        "--------------------------------------------------\n",
        "inter No.3\n",
        "x3 = 1.5562130177514792\n",
        "x4 = 1.631553700831217\n",
        "Error = 0.07534068307973785\n",
        "Resultado f(Xi)= 0.08003548969643459\n",
        "--------------------------------------------------\n",
        "inter No.4\n",
        "x4 = 1.631553700831217\n",
        "x5 = 1.6173196314383034\n",
        "Error = 0.014234069392913717\n",
        "Resultado f(Xi)= -0.004179443827786233\n",
        "--------------------------------------------------\n",
        "inter No.5\n",
        "x5 = 1.6173196314383034\n",
        "x6 = 1.6180260440777123\n",
        "Error = 0.0007064126394089598\n",
        "Resultado f(Xi)= -4.65086146648197e-05\n"
       ]
      }
     ],
     "prompt_number": 20
    }
   ],
   "metadata": {}
  }
 ]
}