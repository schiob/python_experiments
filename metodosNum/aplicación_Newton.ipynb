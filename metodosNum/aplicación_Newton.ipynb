{
 "metadata": {
  "name": "",
  "signature": "sha256:68dcf445ee69d5e7fe2ccb278fdfd7476fb721abb83d9ab82d2a6d90337f902a"
 },
 "nbformat": 3,
 "nbformat_minor": 0,
 "worksheets": [
  {
   "cells": [
    {
     "cell_type": "heading",
     "level": 4,
     "metadata": {},
     "source": [
      "Funci\u00f3n f(x) igualada a 0"
     ]
    },
    {
     "cell_type": "code",
     "collapsed": false,
     "input": [
      "def fun(h):\n",
      "    q = 1.2\n",
      "    g = 9.81\n",
      "    b = 1.8\n",
      "    h0 = .6\n",
      "    H = .075\n",
      "    \n",
      "    return ( (q**2)/(2*g*(b**2)*(h**2)) ) + h + H - h0 - ((q**2)/(2*g*(b**2)*(h0**2)))"
     ],
     "language": "python",
     "metadata": {},
     "outputs": [],
     "prompt_number": 3
    },
    {
     "cell_type": "heading",
     "level": 4,
     "metadata": {},
     "source": [
      "Derivada de la funci\u00f3n "
     ]
    },
    {
     "cell_type": "code",
     "collapsed": false,
     "input": [
      "def derFun(h):\n",
      "    q = 1.2\n",
      "    g = 9.81\n",
      "    b = 1.8\n",
      "    h0 = .6\n",
      "    H = .075\n",
      "    \n",
      "    return -( (q**2)/(g*(b**2)*(h**3)) ) +1"
     ],
     "language": "python",
     "metadata": {},
     "outputs": [],
     "prompt_number": 26
    },
    {
     "cell_type": "heading",
     "level": 4,
     "metadata": {},
     "source": [
      "M\u00e9todo de Newton"
     ]
    },
    {
     "cell_type": "code",
     "collapsed": false,
     "input": [
      "def metodoNewton():\n",
      "    a, x, cont = 0, 5, 1\n",
      "    print(\"N.\\t f(x)\\t\\t\\t f'(x)\\t\\t\\t aprox. de raiz\\t\\t error\")\n",
      "    while(abs(x-a) > .00001):\n",
      "        a = x\n",
      "        x = x - (fun(x)/derFun(x))\n",
      "        print(\"{}\\t {}\\t {} \\t {}\\t {}\".format(cont, fun(x), derFun(x), x, abs(x-a)))\n",
      "        cont += 1"
     ],
     "language": "python",
     "metadata": {},
     "outputs": [],
     "prompt_number": 54
    },
    {
     "cell_type": "code",
     "collapsed": false,
     "input": [
      "metodoNewton()"
     ],
     "language": "python",
     "metadata": {},
     "outputs": [
      {
       "output_type": "stream",
       "stream": "stdout",
       "text": [
        "N.\t f(x)\t\t\t f'(x)\t\t\t aprox. de raiz\t\t error\n",
        "1\t 0.06359160516357804\t 0.7741861006327855 \t 0.5854178154451208\t 4.414582184554879\n",
        "2\t 0.004787950946965769\t 0.6445938196173984 \t 0.5032778685878974\t 0.08213994685722348\n",
        "3\t 5.961509023971745e-05\t 0.6283813577111883 \t 0.495850011228347\t 0.007427857359550372\n",
        "4\t 1.0120805027380442e-08\t 0.628167970915865 \t 0.49575514035175566\t 9.48708765913242e-05\n",
        "5\t 2.7755575615628914e-16\t 0.6281679346631845 \t 0.49575512424013346\t 1.6111622203052178e-08\n"
       ]
      }
     ],
     "prompt_number": 55
    }
   ],
   "metadata": {}
  }
 ]
}