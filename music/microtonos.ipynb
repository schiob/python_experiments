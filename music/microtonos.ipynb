{
 "metadata": {
  "name": ""
 },
 "nbformat": 3,
 "nbformat_minor": 0,
 "worksheets": [
  {
   "cells": [
    {
     "cell_type": "code",
     "collapsed": false,
     "input": [
      "from music21 import *"
     ],
     "language": "python",
     "metadata": {},
     "outputs": [],
     "prompt_number": 8
    },
    {
     "cell_type": "code",
     "collapsed": false,
     "input": [
      "#Para poder mostrar la partitura en el explorador\n",
      "%load_ext music21.ipython21.ipExtension"
     ],
     "language": "python",
     "metadata": {},
     "outputs": [
      {
       "output_type": "stream",
       "stream": "stdout",
       "text": [
        "The music21.ipython21.ipExtension extension is already loaded. To reload it, use:\n",
        "  %reload_ext music21.ipython21.ipExtension\n"
       ]
      }
     ],
     "prompt_number": 9
    },
    {
     "cell_type": "code",
     "collapsed": false,
     "input": [
      "numNotas = int(raw_input('N\u00famero de notas en la escala: '))"
     ],
     "language": "python",
     "metadata": {},
     "outputs": [
      {
       "name": "stdout",
       "output_type": "stream",
       "stream": "stdout",
       "text": [
        "N\u00famero de notas en la escala: 32\n"
       ]
      }
     ],
     "prompt_number": 10
    },
    {
     "cell_type": "code",
     "collapsed": false,
     "input": [
      "razon = pow(2, 1.0/ numNotas)\n",
      "print razon"
     ],
     "language": "python",
     "metadata": {},
     "outputs": [
      {
       "output_type": "stream",
       "stream": "stdout",
       "text": [
        "1.02189714865\n"
       ]
      }
     ],
     "prompt_number": 11
    },
    {
     "cell_type": "code",
     "collapsed": false,
     "input": [
      "stream1 = stream.Stream()\n",
      "stream1.append(note.Note('C'))\n",
      "print stream1[-1].frequency, stream1[-1].name\n",
      "\n",
      "for n in range(numNotas -1):\n",
      "    x = note.Note()\n",
      "    x.frequency = stream1[-1].frequency * razon\n",
      "    print x.frequency, x.name\n",
      "    stream1.append(x)"
     ],
     "language": "python",
     "metadata": {},
     "outputs": [
      {
       "output_type": "stream",
       "stream": "stdout",
       "text": [
        "261.625565301 C\n",
        "267.354419196 C~\n",
        "273.208718656 C#\n",
        "279.191210582 C#\n",
        "285.304702023 C#~\n",
        "291.552061495 C##\n",
        "297.936220326 D\n",
        "304.460174032 D~\n",
        "311.126983722 E-\n",
        "317.939777535 E`\n",
        "324.901752107 E\n",
        "332.016174071 E\n",
        "339.28638159 E~\n",
        "346.715785924 F\n",
        "354.307873029 F\n",
        "362.066205194 F~\n",
        "369.994422712 F#\n",
        "378.096245587 F#~\n",
        "386.375475282 F##\n",
        "394.835996501 G\n",
        "403.48177901 G~\n",
        "412.316879504 G#\n",
        "421.345443507 G#\n",
        "430.571707319 G#~\n",
        "440.0 A\n",
        "449.634745408 A~\n",
        "459.480464268 A#\n",
        "469.541776298 B-\n",
        "479.823402373 B`\n",
        "490.330166742 B\n",
        "501.066999293 B\n",
        "512.038937862 B~\n"
       ]
      }
     ],
     "prompt_number": 12
    },
    {
     "cell_type": "code",
     "collapsed": false,
     "input": [
      "stream1.show()"
     ],
     "language": "python",
     "metadata": {},
     "outputs": [
      {
       "metadata": {},
       "output_type": "pyout",
       "png": "[encoded data removed]",
       "prompt_number": 13,
       "text": [
        "<music21.ipython21.objects.IPythonPNGObject at 0x275f710>"
       ]
      }
     ],
     "prompt_number": 13
    },
    {
     "cell_type": "code",
     "collapsed": false,
     "input": [
      "stream1.show('midi')"
     ],
     "language": "python",
     "metadata": {},
     "outputs": [],
     "prompt_number": 14
    },
    {
     "cell_type": "code",
     "collapsed": false,
     "input": [],
     "language": "python",
     "metadata": {},
     "outputs": [],
     "prompt_number": 14
    }
   ],
   "metadata": {}
  }
 ]
}