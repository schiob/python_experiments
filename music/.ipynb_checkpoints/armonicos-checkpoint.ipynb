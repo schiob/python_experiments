{
 "metadata": {
  "name": ""
 },
 "nbformat": 3,
 "nbformat_minor": 0,
 "worksheets": [
  {
   "cells": [
    {
     "cell_type": "code",
     "collapsed": false,
     "input": [
      "from music21 import *"
     ],
     "language": "python",
     "metadata": {},
     "outputs": [
      {
       "output_type": "stream",
       "stream": "stderr",
       "text": [
        "music21: Certain music21 functions might need the optional package scipy; if you run into errors, install it by following the instructions at http://mit.edu/music21/doc/installing/installAdditional.html\n"
       ]
      }
     ],
     "prompt_number": 1
    },
    {
     "cell_type": "code",
     "collapsed": false,
     "input": [
      "#Para poder mostrar la partitura en el explorador\n",
      "%load_ext music21.ipython21.ipExtension"
     ],
     "language": "python",
     "metadata": {},
     "outputs": [],
     "prompt_number": 2
    },
    {
     "cell_type": "code",
     "collapsed": true,
     "input": [
      "frec = float(raw_input('Frecuencia inicial: '))"
     ],
     "language": "python",
     "metadata": {},
     "outputs": [
      {
       "name": "stdout",
       "output_type": "stream",
       "stream": "stdout",
       "text": [
        "Frecuencia inicial: 440\n"
       ]
      }
     ],
     "prompt_number": 23
    },
    {
     "cell_type": "code",
     "collapsed": false,
     "input": [
      "notas = list()\n",
      "option = raw_input('1 para armonicos seguidos, 2 para armonicos de dos en dos')\n",
      "\n",
      "if option == '2':\n",
      "    for x in xrange(1, 16, 2):\n",
      "        n = note.Note()\n",
      "        newFrec = frec * x\n",
      "        n.frequency = newFrec\n",
      "        notas.append(n)\n",
      "        print newFrec\n",
      "\n",
      "elif option == '1':\n",
      "    for x in xrange(1, 16):\n",
      "        n = note.Note()\n",
      "        newFrec = frec * x\n",
      "        n.frequency = newFrec\n",
      "        notas.append(n)\n",
      "        print newFrec"
     ],
     "language": "python",
     "metadata": {},
     "outputs": [
      {
       "name": "stdout",
       "output_type": "stream",
       "stream": "stdout",
       "text": [
        "1 para armonicos seguidos, 2 para armonicos de dos en dos1\n"
       ]
      },
      {
       "output_type": "stream",
       "stream": "stdout",
       "text": [
        "440.0\n",
        "880.0\n",
        "1320.0\n",
        "1760.0\n",
        "2200.0\n",
        "2640.0\n",
        "3080.0\n",
        "3520.0\n",
        "3960.0\n",
        "4400.0\n",
        "4840.0\n",
        "5280.0\n",
        "5720.0\n",
        "6160.0\n",
        "6600.0\n"
       ]
      }
     ],
     "prompt_number": 17
    },
    {
     "cell_type": "code",
     "collapsed": false,
     "input": [
      "c = chord.Chord(notas)"
     ],
     "language": "python",
     "metadata": {},
     "outputs": [],
     "prompt_number": 18
    },
    {
     "cell_type": "code",
     "collapsed": false,
     "input": [
      "c.duration = duration.Duration(4)\n",
      "c.show()"
     ],
     "language": "python",
     "metadata": {},
     "outputs": [
      {
       "metadata": {},
       "output_type": "pyout",
       "png": "[encoded data removed]",
       "prompt_number": 19,
       "text": [
        "<music21.ipython21.objects.IPythonPNGObject at 0x42455d0>"
       ]
      }
     ],
     "prompt_number": 19
    },
    {
     "cell_type": "code",
     "collapsed": false,
     "input": [
      "c.show('midi')"
     ],
     "language": "python",
     "metadata": {},
     "outputs": [],
     "prompt_number": 20
    },
    {
     "cell_type": "code",
     "collapsed": false,
     "input": [
      "compas = stream.Stream()\n",
      "for nota in notas:\n",
      "    nota.duration = duration.Duration(2)\n",
      "    compas.append(nota)\n",
      "compas.show()"
     ],
     "language": "python",
     "metadata": {},
     "outputs": [
      {
       "metadata": {},
       "output_type": "pyout",
       "png": "[encoded data removed]",
       "prompt_number": 21,
       "text": [
        "<music21.ipython21.objects.IPythonPNGObject at 0x424b650>"
       ]
      }
     ],
     "prompt_number": 21
    },
    {
     "cell_type": "code",
     "collapsed": false,
     "input": [
      "compas.show('midi')"
     ],
     "language": "python",
     "metadata": {},
     "outputs": [],
     "prompt_number": 22
    },
    {
     "cell_type": "code",
     "collapsed": false,
     "input": [],
     "language": "python",
     "metadata": {},
     "outputs": [],
     "prompt_number": 9
    }
   ],
   "metadata": {}
  }
 ]
}