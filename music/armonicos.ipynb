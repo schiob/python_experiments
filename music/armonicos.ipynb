{
 "metadata": {
  "name": ""
 },
 "nbformat": 3,
 "nbformat_minor": 0,
 "worksheets": [
  {
   "cells": [
    {
     "cell_type": "code",
     "collapsed": false,
     "input": [
      "from music21 import *"
     ],
     "language": "python",
     "metadata": {},
     "outputs": [],
     "prompt_number": 10
    },
    {
     "cell_type": "code",
     "collapsed": false,
     "input": [
      "#Para poder mostrar la partitura en el explorador\n",
      "%load_ext music21.ipython21.ipExtension"
     ],
     "language": "python",
     "metadata": {},
     "outputs": [
      {
       "output_type": "stream",
       "stream": "stdout",
       "text": [
        "The music21.ipython21.ipExtension extension is already loaded. To reload it, use:\n",
        "  %reload_ext music21.ipython21.ipExtension\n"
       ]
      }
     ],
     "prompt_number": 11
    },
    {
     "cell_type": "code",
     "collapsed": true,
     "input": [
      "frec = float(raw_input('Frecuencia inicial: '))"
     ],
     "language": "python",
     "metadata": {},
     "outputs": [
      {
       "name": "stdout",
       "output_type": "stream",
       "stream": "stdout",
       "text": [
        "Frecuencia inicial: 666.66\n"
       ]
      }
     ],
     "prompt_number": 12
    },
    {
     "cell_type": "code",
     "collapsed": false,
     "input": [
      "notas = list()\n",
      "option = raw_input('1 para armonicos seguidos, 2 para armonicos de dos en dos')\n",
      "\n",
      "if option == '2':\n",
      "    for x in xrange(1, 16, 2):\n",
      "        n = note.Note()\n",
      "        newFrec = frec * x\n",
      "        n.frequency = newFrec\n",
      "        notas.append(n)\n",
      "        print newFrec\n",
      "\n",
      "elif option == '1':\n",
      "    for x in xrange(1, 16):\n",
      "        n = note.Note()\n",
      "        newFrec = frec * x\n",
      "        n.frequency = newFrec\n",
      "        notas.append(n)\n",
      "        print newFrec"
     ],
     "language": "python",
     "metadata": {},
     "outputs": [
      {
       "name": "stdout",
       "output_type": "stream",
       "stream": "stdout",
       "text": [
        "1 para armonicos seguidos, 2 para armonicos de dos en dos1\n"
       ]
      },
      {
       "output_type": "stream",
       "stream": "stdout",
       "text": [
        "666.66\n",
        "1333.32\n",
        "1999.98\n",
        "2666.64\n",
        "3333.3\n",
        "3999.96\n",
        "4666.62\n",
        "5333.28\n",
        "5999.94\n",
        "6666.6\n",
        "7333.26\n",
        "7999.92\n",
        "8666.58\n",
        "9333.24\n",
        "9999.9\n"
       ]
      }
     ],
     "prompt_number": 13
    },
    {
     "cell_type": "code",
     "collapsed": false,
     "input": [
      "c = chord.Chord(notas)"
     ],
     "language": "python",
     "metadata": {},
     "outputs": [],
     "prompt_number": 14
    },
    {
     "cell_type": "code",
     "collapsed": false,
     "input": [
      "c.duration = duration.Duration(4)\n",
      "c.show()"
     ],
     "language": "python",
     "metadata": {},
     "outputs": [
      {
       "metadata": {},
       "output_type": "pyout",
       "png": "[encoded data removed]",
       "prompt_number": 15,
       "text": [
        "<music21.ipython21.objects.IPythonPNGObject at 0x312f2d0>"
       ]
      }
     ],
     "prompt_number": 15
    },
    {
     "cell_type": "code",
     "collapsed": false,
     "input": [
      "c.show('midi')"
     ],
     "language": "python",
     "metadata": {},
     "outputs": [],
     "prompt_number": 16
    },
    {
     "cell_type": "code",
     "collapsed": false,
     "input": [
      "compas = stream.Stream()\n",
      "for nota in notas:\n",
      "    nota.duration = duration.Duration(2)\n",
      "    compas.append(nota)\n",
      "compas.show()"
     ],
     "language": "python",
     "metadata": {},
     "outputs": [
      {
       "metadata": {},
       "output_type": "pyout",
       "png": "[encoded data removed]",
       "prompt_number": 17,
       "text": [
        "<music21.ipython21.objects.IPythonPNGObject at 0x3134fd0>"
       ]
      }
     ],
     "prompt_number": 17
    },
    {
     "cell_type": "code",
     "collapsed": false,
     "input": [
      "compas.show('midi')"
     ],
     "language": "python",
     "metadata": {},
     "outputs": [],
     "prompt_number": 18
    },
    {
     "cell_type": "code",
     "collapsed": false,
     "input": [],
     "language": "python",
     "metadata": {},
     "outputs": [],
     "prompt_number": 18
    }
   ],
   "metadata": {}
  }
 ]
}