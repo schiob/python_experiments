{
 "metadata": {
  "name": "",
  "signature": "sha256:d41e249606dbf67c53f2c1de1518176a6c3c5f63b84d0c601a7e3ed6dc3265c2"
 },
 "nbformat": 3,
 "nbformat_minor": 0,
 "worksheets": [
  {
   "cells": [
    {
     "cell_type": "code",
     "collapsed": false,
     "input": [
      "from IPython.display import Image"
     ],
     "language": "python",
     "metadata": {
      "slideshow": {
       "slide_type": "skip"
      }
     },
     "outputs": [],
     "prompt_number": 3
    },
    {
     "cell_type": "heading",
     "level": 2,
     "metadata": {
      "slideshow": {
       "slide_type": "slide"
      }
     },
     "source": [
      "Arbol de expansi\u00f3n m\u00ednima"
     ]
    },
    {
     "cell_type": "markdown",
     "metadata": {
      "slideshow": {
       "slide_type": "slide"
      }
     },
     "source": [
      "<h3><strong>\u00c1rbol de Expansi\u00f3n</strong></h3>\n",
      "<p>Dado un grafo conexo, no dirigido G. Un \u00e1rbol de expansi\u00f3n es un \u00e1rbol compuesto por todos los v\u00e9rtices y algunas (posiblemente todas) de las aristas de G. Al ser creado un \u00e1rbol no existir\u00e1n ciclos, adem\u00e1s debe existir una ruta entre cada par de v\u00e9rtices</p>"
     ]
    },
    {
     "cell_type": "code",
     "collapsed": false,
     "input": [
      "Image(url='http://jariasf.files.wordpress.com/2012/04/spanning-tree.jpg')"
     ],
     "language": "python",
     "metadata": {
      "slideshow": {
       "slide_type": "subslide"
      }
     },
     "outputs": [
      {
       "html": [
        "<img src=\"http://jariasf.files.wordpress.com/2012/04/spanning-tree.jpg\"/>"
       ],
       "metadata": {},
       "output_type": "pyout",
       "prompt_number": 7,
       "text": [
        "<IPython.core.display.Image at 0x7ff4b52708d0>"
       ]
      }
     ],
     "prompt_number": 7
    },
    {
     "cell_type": "code",
     "collapsed": false,
     "input": [
      "Image(url='http://jariasf.files.wordpress.com/2012/04/spanning-tree2.jpg')"
     ],
     "language": "python",
     "metadata": {},
     "outputs": [
      {
       "html": [
        "<img src=\"http://jariasf.files.wordpress.com/2012/04/spanning-tree2.jpg\"/>"
       ],
       "metadata": {},
       "output_type": "pyout",
       "prompt_number": 8,
       "text": [
        "<IPython.core.display.Image at 0x7ff4b5270dd0>"
       ]
      }
     ],
     "prompt_number": 8
    },
    {
     "cell_type": "heading",
     "level": 3,
     "metadata": {},
     "source": [
      "Algoritmo Prim"
     ]
    },
    {
     "cell_type": "code",
     "collapsed": false,
     "input": [
      "# https://github.com/paolovictor/python-algorithms/blob/master/graphs/prim.py\n",
      "\n",
      "from random import choice\n",
      "\n",
      "class Vertex(object):\n",
      "    def __init__(self, label):\n",
      "        self.label = label\n",
      "        self.adjacent = []\n",
      "\n",
      "    def __repr__(self):\n",
      "        return self.label\n",
      "\n",
      "def connects(edge, mst):\n",
      "    source, dest, _ = edge\n",
      "\n",
      "    for s, d, _ in mst:\n",
      "        if source == s or source == d or \\\n",
      "           dest == s or dest == d:\n",
      "            return True\n",
      "\n",
      "    return False\n",
      "\n",
      "def min_connecting_edge(mst, edges):\n",
      "    min_edge = None\n",
      "    for edge in edges:\n",
      "        if connects(edge, mst) \\\n",
      "           and (not min_edge or edge[2] < min_edge[2]):\n",
      "            min_edge = edge\n",
      "    return min_edge\n",
      "\n",
      "def prim_mst(vertexes):\n",
      "    mst = []\n",
      "\n",
      "    edges = []\n",
      "    for v in vertexes:\n",
      "        for adjacent in v.adjacent:\n",
      "            edges.append((v, adjacent[0], adjacent[1]))\n",
      "\n",
      "    if not edges:\n",
      "        return mst\n",
      "\n",
      "    mst = [edges.pop()]\n",
      "\n",
      "    while len(mst) < len(vertexes) - 1:\n",
      "        min_edge = min_connecting_edge(mst, edges)\n",
      "        edges.remove(min_edge)\n",
      "        mst.append(min_edge)\n",
      "\n",
      "    return mst\n",
      "\n",
      "if __name__ == '__main__':\n",
      "    a = Vertex('a')\n",
      "    b = Vertex('b')\n",
      "    c = Vertex('c')\n",
      "    d = Vertex('d')\n",
      "\n",
      "    a.adjacent = [(b, 1), (c, 5), (d, 2)]\n",
      "    c.adjacent = [(d, 3)]\n",
      "\n",
      "    mst = prim_mst([a, b, c, d])\n",
      "\n",
      "    print mst"
     ],
     "language": "python",
     "metadata": {},
     "outputs": [
      {
       "output_type": "stream",
       "stream": "stdout",
       "text": [
        "[(c, d, 3), (a, d, 2), (a, b, 1)]\n"
       ]
      }
     ],
     "prompt_number": 10
    },
    {
     "cell_type": "heading",
     "level": 3,
     "metadata": {},
     "source": [
      "Kruskal"
     ]
    },
    {
     "cell_type": "code",
     "collapsed": false,
     "input": [
      "# https://github.com/israelst/Algorithms-Book--Python/blob/master/5-Greedy-algorithms/kruskal.py\n",
      "\n",
      "parent = dict()\n",
      "rank = dict()\n",
      "\n",
      "def make_set(vertice):\n",
      "    parent[vertice] = vertice\n",
      "    rank[vertice] = 0\n",
      "\n",
      "def find(vertice):\n",
      "    if parent[vertice] != vertice:\n",
      "        parent[vertice] = find(parent[vertice])\n",
      "    return parent[vertice]\n",
      "\n",
      "def union(vertice1, vertice2):\n",
      "    root1 = find(vertice1)\n",
      "    root2 = find(vertice2)\n",
      "    if root1 != root2:\n",
      "        if rank[root1] > rank[root2]:\n",
      "            parent[root2] = root1\n",
      "        else:\n",
      "            parent[root1] = root2\n",
      "            if rank[root1] == rank[root2]: rank[root2] += 1\n",
      "\n",
      "def kruskal(graph):\n",
      "    for vertice in graph['vertices']:\n",
      "        make_set(vertice)\n",
      "\n",
      "    minimum_spanning_tree = set()\n",
      "    edges = list(graph['edges'])\n",
      "    edges.sort()\n",
      "    for edge in edges:\n",
      "        weight, vertice1, vertice2 = edge\n",
      "        if find(vertice1) != find(vertice2):\n",
      "            union(vertice1, vertice2)\n",
      "            minimum_spanning_tree.add(edge)\n",
      "    return minimum_spanning_tree\n",
      "\n",
      "if __name__ == '__main__':\n",
      "    graph = {\n",
      "            'vertices': ['A', 'B', 'C', 'D', 'E', 'F'],\n",
      "            'edges': set([\n",
      "                (1, 'A', 'B'),\n",
      "                (5, 'A', 'C'),\n",
      "                (3, 'A', 'D'),\n",
      "                (4, 'B', 'C'),\n",
      "                (2, 'B', 'D'),\n",
      "                (1, 'C', 'D'),\n",
      "                ])\n",
      "            }\n",
      "    minimum_spanning_tree = set([\n",
      "                (1, 'A', 'B'),\n",
      "                (2, 'B', 'D'),\n",
      "                (1, 'C', 'D'),\n",
      "                ])\n",
      "    print(kruskal(graph))"
     ],
     "language": "python",
     "metadata": {},
     "outputs": [
      {
       "output_type": "stream",
       "stream": "stdout",
       "text": [
        "set([(1, 'A', 'B'), (1, 'C', 'D'), (2, 'B', 'D')])\n"
       ]
      }
     ],
     "prompt_number": 15
    },
    {
     "cell_type": "heading",
     "level": 2,
     "metadata": {},
     "source": [
      "Camino m\u00e1s corto"
     ]
    },
    {
     "cell_type": "markdown",
     "metadata": {},
     "source": [
      "<p><strong>Algoritmo de Dijkstra</strong> resuelve el problema de los caminos m\u00e1s cortos desde un \u00fanico v\u00e9rtice origen hasta todos los otros v\u00e9rtices del grafo.</p>\n",
      "<p><strong>Algoritmo de Bellman - Ford</strong>, resuelve el problema de los caminos m\u00e1s cortos desde un origen si la ponderaci\u00f3n de las aristas es negativa.</p>\n",
      "<p><strong>Algoritmo de B\u00fasqueda A*</strong>, resuelve el problema de los caminos m\u00e1s cortos entre un par de v\u00e9rtices usando la heur\u00edstica para intentar agilizar la b\u00fasqueda.</p>\n",
      "<p><strong>Algoritmo de Floyd - Warshall</strong>, resuelve el problema de los caminos m\u00e1s cortos entre todos los v\u00e9rtices.</p>\n",
      "<p><strong>Algoritmo de Johnson</strong>, resuelve el problema de los caminos m\u00e1s cortos entre todos los v\u00e9rtices y puede ser m\u00e1s r\u00e1pido que el de Floyd - Warshall en grafos de baja densidad.</p>"
     ]
    },
    {
     "cell_type": "code",
     "collapsed": false,
     "input": [
      "Image(url='http://upload.wikimedia.org/wikipedia/commons/e/ea/Caminosmascortos.jpg')"
     ],
     "language": "python",
     "metadata": {},
     "outputs": [
      {
       "html": [
        "<img src=\"http://upload.wikimedia.org/wikipedia/commons/e/ea/Caminosmascortos.jpg\"/>"
       ],
       "metadata": {},
       "output_type": "pyout",
       "prompt_number": 16,
       "text": [
        "<IPython.core.display.Image at 0x7ff4b4a39ad0>"
       ]
      }
     ],
     "prompt_number": 16
    },
    {
     "cell_type": "heading",
     "level": 3,
     "metadata": {},
     "source": [
      "Dijkstra"
     ]
    },
    {
     "cell_type": "code",
     "collapsed": false,
     "input": [
      "from collections import defaultdict\n",
      "\n",
      "class Graph:\n",
      "  def __init__(self):\n",
      "    self.nodes = set()\n",
      "    self.edges = defaultdict(list)\n",
      "    self.distances = {}\n",
      " \n",
      "  def add_node(self, value):\n",
      "    self.nodes.add(value)\n",
      " \n",
      "  def add_edge(self, from_node, to_node, distance):\n",
      "    self.edges[from_node].append(to_node)\n",
      "    self.edges[to_node].append(from_node)\n",
      "    self.distances[(from_node, to_node)] = distance\n",
      "    self.distances[(to_node, from_node)] = distance\n",
      " \n",
      " \n",
      "def dijsktra(graph, initial):\n",
      "  visited = {initial: 0}\n",
      "  path = {}\n",
      " \n",
      "  nodes = set(graph.nodes)\n",
      " \n",
      "  while nodes: \n",
      "    min_node = None\n",
      "    for node in nodes:\n",
      "      if node in visited:\n",
      "        if min_node is None:\n",
      "          min_node = node\n",
      "        elif visited[node] < visited[min_node]:\n",
      "          min_node = node\n",
      " \n",
      "    if min_node is None:\n",
      "      break\n",
      " \n",
      "    nodes.remove(min_node)\n",
      "    current_weight = visited[min_node]\n",
      " \n",
      "    for edge in graph.edges[min_node]:\n",
      "      weight = current_weight + graph.distances[(min_node, edge)]\n",
      "      if edge not in visited or weight < visited[edge]:\n",
      "        visited[edge] = weight\n",
      "        path[edge] = min_node\n",
      " \n",
      "  return visited, path\n",
      "\n",
      "if __name__ == '__main__':\n",
      "    g = Graph()\n",
      "    g.add_node('A')\n",
      "    g.add_node('B')\n",
      "    g.add_node('C')\n",
      "    g.add_node('D')\n",
      "    g.add_node('E')\n",
      "    g.add_node('F')\n",
      "    g.add_node('G')\n",
      "    g.add_node('H')\n",
      "    g.add_edge('A', 'B', 3)\n",
      "    g.add_edge('A', 'C', 5)\n",
      "    g.add_edge('A', 'H', 10)\n",
      "    g.add_edge('C', 'B', 5)\n",
      "    g.add_edge('C', 'F', 7)\n",
      "    g.add_edge('C', 'E', 1)\n",
      "    g.add_edge('C', 'G', 9)\n",
      "    g.add_edge('H', 'F', 9)\n",
      "    g.add_edge('H', 'B', 6)\n",
      "    g.add_edge('H', 'G', 3)\n",
      "    g.add_edge('H', 'D', 14)\n",
      "    g.add_edge('B', 'E', 4)\n",
      "    g.add_edge('B', 'D', 8)\n",
      "    g.add_edge('B', 'G', 6)\n",
      "    g.add_edge('E', 'D', 12)\n",
      "    g.add_edge('E', 'G', 15)\n",
      "    \n",
      "    print(dijsktra(g, 'A'))"
     ],
     "language": "python",
     "metadata": {},
     "outputs": [
      {
       "output_type": "stream",
       "stream": "stdout",
       "text": [
        "({'A': 0, 'C': 5, 'B': 3, 'E': 6, 'D': 11, 'G': 9, 'F': 12, 'H': 9}, {'C': 'A', 'B': 'A', 'E': 'C', 'D': 'B', 'G': 'B', 'F': 'C', 'H': 'B'})\n"
       ]
      }
     ],
     "prompt_number": 22
    },
    {
     "cell_type": "heading",
     "level": 2,
     "metadata": {},
     "source": [
      "Flujo M\u00e1ximo"
     ]
    },
    {
     "cell_type": "markdown",
     "metadata": {},
     "source": [
      "<h3><strong>El problema:</strong></h3>\n",
      "<p>Existe un flujo que viaja desde un \u00fanico lugar de origen hacia un \u00fanico lugar de destino a trav\u00e9s de arcos que conectan nodos intermediarios. Los arcos tienen una capacidad m\u00e1xima de flujo y se trata de enviar desde la fuente al destina la mayor cantidad posible de flujo.</p>"
     ]
    },
    {
     "cell_type": "heading",
     "level": 3,
     "metadata": {},
     "source": [
      "Ford-Fulkerson"
     ]
    },
    {
     "cell_type": "code",
     "collapsed": false,
     "input": [
      "# http://en.wikipedia.org/wiki/Ford%E2%80%93Fulkerson_algorithm\n",
      "\n",
      "class Edge(object):\n",
      "    def __init__(self, u, v, w):\n",
      "        self.source = u\n",
      "        self.sink = v  \n",
      "        self.capacity = w\n",
      "    def __repr__(self):\n",
      "        return \"%s->%s:%s\" % (self.source, self.sink, self.capacity)\n",
      " \n",
      "class FlowNetwork(object):\n",
      "    def __init__(self):\n",
      "        self.adj = {}\n",
      "        self.flow = {}\n",
      " \n",
      "    def add_vertex(self, vertex):\n",
      "        self.adj[vertex] = []\n",
      " \n",
      "    def get_edges(self, v):\n",
      "        return self.adj[v]\n",
      " \n",
      "    def add_edge(self, u, v, w=0):\n",
      "        if u == v:\n",
      "            raise ValueError(\"u == v\")\n",
      "        edge = Edge(u,v,w)\n",
      "        redge = Edge(v,u,0)\n",
      "        edge.redge = redge\n",
      "        redge.redge = edge\n",
      "        self.adj[u].append(edge)\n",
      "        self.adj[v].append(redge)\n",
      "        self.flow[edge] = 0\n",
      "        self.flow[redge] = 0\n",
      " \n",
      "    def find_path(self, source, sink, path):\n",
      "        if source == sink:\n",
      "            return path\n",
      "        for edge in self.get_edges(source):\n",
      "            residual = edge.capacity - self.flow[edge]\n",
      "            if residual > 0 and edge not in path:\n",
      "                result = self.find_path( edge.sink, sink, path + [edge]) \n",
      "                if result != None:\n",
      "                    return result\n",
      " \n",
      "    def max_flow(self, source, sink):\n",
      "        path = self.find_path(source, sink, [])\n",
      "        while path != None:\n",
      "            residuals = [edge.capacity - self.flow[edge] for edge in path]\n",
      "            flow = min(residuals)\n",
      "            for edge in path:\n",
      "                self.flow[edge] += flow\n",
      "                self.flow[edge.redge] -= flow\n",
      "            path = self.find_path(source, sink, [])\n",
      "        return sum(self.flow[edge] for edge in self.get_edges(source))"
     ],
     "language": "python",
     "metadata": {},
     "outputs": [],
     "prompt_number": 1
    },
    {
     "cell_type": "code",
     "collapsed": false,
     "input": [
      "Image(url='http://upload.wikimedia.org/wikipedia/commons/9/94/Max_flow.svg')"
     ],
     "language": "python",
     "metadata": {},
     "outputs": [
      {
       "html": [
        "<img src=\"http://upload.wikimedia.org/wikipedia/commons/9/94/Max_flow.svg\"/>"
       ],
       "metadata": {},
       "output_type": "pyout",
       "prompt_number": 4,
       "text": [
        "<IPython.core.display.Image at 0x7ff4b4a25950>"
       ]
      }
     ],
     "prompt_number": 4
    },
    {
     "cell_type": "code",
     "collapsed": false,
     "input": [
      "g = FlowNetwork()\n",
      "[g.add_vertex(v) for v in \"sopqrt\"]\n",
      "g.add_edge('s','o',3)\n",
      "g.add_edge('s','p',3)\n",
      "g.add_edge('o','p',2)\n",
      "g.add_edge('o','q',3)\n",
      "g.add_edge('p','r',2)\n",
      "g.add_edge('r','t',3)\n",
      "g.add_edge('q','r',4)\n",
      "g.add_edge('q','t',2)\n",
      "print (g.max_flow('s','t'))"
     ],
     "language": "python",
     "metadata": {},
     "outputs": [
      {
       "output_type": "stream",
       "stream": "stdout",
       "text": [
        "5\n"
       ]
      }
     ],
     "prompt_number": 6
    },
    {
     "cell_type": "code",
     "collapsed": false,
     "input": [],
     "language": "python",
     "metadata": {},
     "outputs": []
    }
   ],
   "metadata": {}
  }
 ]
}