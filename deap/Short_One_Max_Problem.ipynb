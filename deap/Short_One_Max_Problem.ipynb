{
 "metadata": {
  "name": "",
  "signature": "sha256:ef2384849e8addeb1a0bbb3c9d4881bd23415926c42339811d9629bb512e01f0"
 },
 "nbformat": 3,
 "nbformat_minor": 0,
 "worksheets": [
  {
   "cells": [
    {
     "cell_type": "code",
     "collapsed": false,
     "input": [
      "import random\n",
      "\n",
      "from deap import base\n",
      "from deap import creator\n",
      "from deap import tools\n",
      "from deap import algorithms"
     ],
     "language": "python",
     "metadata": {},
     "outputs": [],
     "prompt_number": 1
    },
    {
     "cell_type": "code",
     "collapsed": false,
     "input": [
      "creator.create('FitnessMax', base.Fitness, weights=(1.0,))\n",
      "creator.create('Individual', list, fitness=creator.FitnessMax)"
     ],
     "language": "python",
     "metadata": {},
     "outputs": [],
     "prompt_number": 2
    },
    {
     "cell_type": "code",
     "collapsed": false,
     "input": [
      "toolbox = base.Toolbox()\n",
      "# Attribute generator\n",
      "toolbox.register('attr_bool', random.randint, 0, 1)\n",
      "# Structure initializers\n",
      "toolbox.register('individual', tools.initRepeat, creator.Individual,\n",
      "                 toolbox.attr_bool, 100)\n",
      "toolbox.register('population', tools.initRepeat, list, toolbox.individual)"
     ],
     "language": "python",
     "metadata": {},
     "outputs": [],
     "prompt_number": 3
    },
    {
     "cell_type": "code",
     "collapsed": false,
     "input": [
      "# Evaluation function\n",
      "def evalOneMax(individual):\n",
      "    return sum(individual),"
     ],
     "language": "python",
     "metadata": {},
     "outputs": [],
     "prompt_number": 4
    },
    {
     "cell_type": "code",
     "collapsed": false,
     "input": [
      "toolbox.register('evaluate', evalOneMax)\n",
      "toolbox.register('mate', tools.cxTwoPoint)\n",
      "toolbox.register('mutate', tools.mutFlipBit, indpb=0.05)\n",
      "toolbox.register('select', tools.selTournament, tournsize=3)"
     ],
     "language": "python",
     "metadata": {},
     "outputs": [],
     "prompt_number": 5
    },
    {
     "cell_type": "code",
     "collapsed": false,
     "input": [
      "def main():\n",
      "    pop = toolbox.population(n=300)\n",
      "    hof = tools.HallOfFame(1)\n",
      "    stats = tools.Statistics(lambda ind: ind.fitness.values)\n",
      "    stats.register('avg', numpy.mean)\n",
      "    stats.register('std', numpy.std)\n",
      "    stats.register('min', numpy.min)\n",
      "    stats.register('max', numpy.max)\n",
      "    \n",
      "    pop, log = algorithms.eaSimple(pop, toolbox, cxpb=0.5, mutpb=0.2, ngen=40, stats=stats, halloffame=hof, verbose=True)"
     ],
     "language": "python",
     "metadata": {},
     "outputs": [],
     "prompt_number": 6
    },
    {
     "cell_type": "code",
     "collapsed": false,
     "input": [
      "if __name__ == '__main__':\n",
      "    main()"
     ],
     "language": "python",
     "metadata": {},
     "outputs": [
      {
       "output_type": "stream",
       "stream": "stdout",
       "text": [
        "gen\tnevals\tavg    \tstd   \tmin\tmax\n",
        "0  \t300   \t50.0433\t5.2187\t36 \t64 \n",
        "1  \t171   \t54.3933\t4.12859\t42 \t65 "
       ]
      },
      {
       "output_type": "stream",
       "stream": "stdout",
       "text": [
        "\n",
        "2  \t163   \t57.7533\t3.40282\t47 \t68 "
       ]
      },
      {
       "output_type": "stream",
       "stream": "stdout",
       "text": [
        "\n",
        "3  \t186   \t60.1967\t3.05254\t50 \t69 "
       ]
      },
      {
       "output_type": "stream",
       "stream": "stdout",
       "text": [
        "\n",
        "4  \t197   \t62.43  \t3.1757 \t51 \t74 "
       ]
      },
      {
       "output_type": "stream",
       "stream": "stdout",
       "text": [
        "\n",
        "5  \t158   \t64.8833\t3.25623\t52 \t74 "
       ]
      },
      {
       "output_type": "stream",
       "stream": "stdout",
       "text": [
        "\n",
        "6  \t163   \t67.38  \t3.1383 \t55 \t76 "
       ]
      },
      {
       "output_type": "stream",
       "stream": "stdout",
       "text": [
        "\n",
        "7  \t197   \t69.3867\t2.9761 \t60 \t77 "
       ]
      },
      {
       "output_type": "stream",
       "stream": "stdout",
       "text": [
        "\n",
        "8  \t183   \t71.2133\t2.78469\t64 \t79 "
       ]
      },
      {
       "output_type": "stream",
       "stream": "stdout",
       "text": [
        "\n",
        "9  \t202   \t73.22  \t2.81276\t66 \t81 "
       ]
      },
      {
       "output_type": "stream",
       "stream": "stdout",
       "text": [
        "\n",
        "10 \t169   \t75.3667\t2.81287\t67 \t84 "
       ]
      },
      {
       "output_type": "stream",
       "stream": "stdout",
       "text": [
        "\n",
        "11 \t191   \t77.3567\t2.84185\t66 \t87 "
       ]
      },
      {
       "output_type": "stream",
       "stream": "stdout",
       "text": [
        "\n",
        "12 \t176   \t79.3   \t2.65518\t71 \t87 "
       ]
      },
      {
       "output_type": "stream",
       "stream": "stdout",
       "text": [
        "\n",
        "13 \t178   \t80.9   \t2.60832\t71 \t88 "
       ]
      },
      {
       "output_type": "stream",
       "stream": "stdout",
       "text": [
        "\n",
        "14 \t178   \t82.1667\t2.62403\t74 \t90 "
       ]
      },
      {
       "output_type": "stream",
       "stream": "stdout",
       "text": [
        "\n",
        "15 \t184   \t83.6167\t2.63117\t75 \t90 "
       ]
      },
      {
       "output_type": "stream",
       "stream": "stdout",
       "text": [
        "\n",
        "16 \t190   \t84.79  \t2.91763\t73 \t90 "
       ]
      },
      {
       "output_type": "stream",
       "stream": "stdout",
       "text": [
        "\n",
        "17 \t191   \t86.3333\t2.40601\t74 \t92 "
       ]
      },
      {
       "output_type": "stream",
       "stream": "stdout",
       "text": [
        "\n",
        "18 \t205   \t87.3233\t2.5882 \t80 \t93 "
       ]
      },
      {
       "output_type": "stream",
       "stream": "stdout",
       "text": [
        "\n",
        "19 \t208   \t88.56  \t2.63687\t77 \t95 "
       ]
      },
      {
       "output_type": "stream",
       "stream": "stdout",
       "text": [
        "\n",
        "20 \t153   \t90.0533\t2.61097\t80 \t95 "
       ]
      },
      {
       "output_type": "stream",
       "stream": "stdout",
       "text": [
        "\n",
        "21 \t175   \t91.34  \t2.38839\t83 \t96 "
       ]
      },
      {
       "output_type": "stream",
       "stream": "stdout",
       "text": [
        "\n",
        "22 \t163   \t92.2833\t2.30139\t82 \t96 "
       ]
      },
      {
       "output_type": "stream",
       "stream": "stdout",
       "text": [
        "\n",
        "23 \t174   \t93.01  \t2.27227\t84 \t96 "
       ]
      },
      {
       "output_type": "stream",
       "stream": "stdout",
       "text": [
        "\n",
        "24 \t180   \t93.5167\t2.36144\t83 \t97 "
       ]
      },
      {
       "output_type": "stream",
       "stream": "stdout",
       "text": [
        "\n",
        "25 \t186   \t94.1367\t1.98444\t85 \t97 "
       ]
      },
      {
       "output_type": "stream",
       "stream": "stdout",
       "text": [
        "\n",
        "26 \t165   \t94.5633\t2.0015 \t86 \t98 "
       ]
      },
      {
       "output_type": "stream",
       "stream": "stdout",
       "text": [
        "\n",
        "27 \t183   \t94.8133\t2.441  \t84 \t98 "
       ]
      },
      {
       "output_type": "stream",
       "stream": "stdout",
       "text": [
        "\n",
        "28 \t179   \t95.33  \t2.39467\t86 \t98 "
       ]
      },
      {
       "output_type": "stream",
       "stream": "stdout",
       "text": [
        "\n",
        "29 \t195   \t95.8633\t2.30318\t86 \t99 "
       ]
      },
      {
       "output_type": "stream",
       "stream": "stdout",
       "text": [
        "\n",
        "30 \t190   \t96.09  \t2.37807\t86 \t99 "
       ]
      },
      {
       "output_type": "stream",
       "stream": "stdout",
       "text": [
        "\n",
        "31 \t178   \t96.5133\t2.33163\t85 \t99 "
       ]
      },
      {
       "output_type": "stream",
       "stream": "stdout",
       "text": [
        "\n",
        "32 \t202   \t96.86  \t2.21519\t87 \t99 "
       ]
      },
      {
       "output_type": "stream",
       "stream": "stdout",
       "text": [
        "\n",
        "33 \t173   \t97.1133\t2.2863 \t87 \t99 "
       ]
      },
      {
       "output_type": "stream",
       "stream": "stdout",
       "text": [
        "\n",
        "34 \t186   \t97.1567\t2.5177 \t87 \t99 "
       ]
      },
      {
       "output_type": "stream",
       "stream": "stdout",
       "text": [
        "\n",
        "35 \t180   \t97.7433\t2.23102\t86 \t99 "
       ]
      },
      {
       "output_type": "stream",
       "stream": "stdout",
       "text": [
        "\n",
        "36 \t187   \t97.9   \t2.15639\t87 \t99 "
       ]
      },
      {
       "output_type": "stream",
       "stream": "stdout",
       "text": [
        "\n",
        "37 \t207   \t98.1067\t2.00382\t90 \t100"
       ]
      },
      {
       "output_type": "stream",
       "stream": "stdout",
       "text": [
        "\n",
        "38 \t174   \t98.2767\t1.84213\t89 \t100"
       ]
      },
      {
       "output_type": "stream",
       "stream": "stdout",
       "text": [
        "\n",
        "39 \t192   \t97.95  \t2.15735\t90 \t100"
       ]
      },
      {
       "output_type": "stream",
       "stream": "stdout",
       "text": [
        "\n",
        "40 \t193   \t98.0667\t2.2005 \t89 \t100"
       ]
      },
      {
       "output_type": "stream",
       "stream": "stdout",
       "text": [
        "\n"
       ]
      }
     ],
     "prompt_number": 7
    }
   ],
   "metadata": {}
  }
 ]
}