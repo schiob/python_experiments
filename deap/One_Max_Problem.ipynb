{
 "metadata": {
  "name": "",
  "signature": "sha256:23bc606a9cd8cb379b5efdd68e6c3f80ee468518859325a4d86d3f051b858f87"
 },
 "nbformat": 3,
 "nbformat_minor": 0,
 "worksheets": [
  {
   "cells": [
    {
     "cell_type": "markdown",
     "metadata": {},
     "source": [
      "We search for a 1 filled list individual."
     ]
    },
    {
     "cell_type": "code",
     "collapsed": false,
     "input": [
      "import random\n",
      "\n",
      "from deap import base\n",
      "from deap import creator\n",
      "from deap import tools"
     ],
     "language": "python",
     "metadata": {},
     "outputs": [],
     "prompt_number": 2
    },
    {
     "cell_type": "code",
     "collapsed": false,
     "input": [
      "creator.create('FitnessMax', base.Fitness, weights=(1.0,))\n",
      "creator.create('Individual', list, fitness=creator.FitnessMax)"
     ],
     "language": "python",
     "metadata": {},
     "outputs": [],
     "prompt_number": 4
    },
    {
     "cell_type": "code",
     "collapsed": false,
     "input": [
      "toolbox = base.Toolbox()\n",
      "# Attribute generator\n",
      "toolbox.register('attr_bool', random.randint, 0, 1)\n",
      "# Structure initializers\n",
      "toolbox.register('individual', tools.initRepeat, creator.Individual,\n",
      "                 toolbox.attr_bool, 100)\n",
      "toolbox.register('population', tools.initRepeat, list, toolbox.individual)"
     ],
     "language": "python",
     "metadata": {},
     "outputs": [],
     "prompt_number": 7
    },
    {
     "cell_type": "code",
     "collapsed": false,
     "input": [
      "# Evaluation function\n",
      "def evalOneMax(individual):\n",
      "    return sum(individual),"
     ],
     "language": "python",
     "metadata": {},
     "outputs": [],
     "prompt_number": 33
    },
    {
     "cell_type": "code",
     "collapsed": false,
     "input": [
      "toolbox.register('evaluate', evalOneMax)\n",
      "toolbox.register('mate', tools.cxTwoPoint)\n",
      "toolbox.register('mutate', tools.mutFlipBit, indpb=0.05)\n",
      "toolbox.register('select', tools.selTournament, tournsize=3)"
     ],
     "language": "python",
     "metadata": {},
     "outputs": [],
     "prompt_number": 35
    },
    {
     "cell_type": "code",
     "collapsed": false,
     "input": [
      "def main():\n",
      "    \n",
      "    pop = toolbox.population(n=300)\n",
      "    \n",
      "    # Evaluate the entire population\n",
      "    fitness = list(map(toolbox.evaluate, pop))\n",
      "    for ind, fit in zip(pop, fitness):\n",
      "        ind.fitness.values = fit\n",
      "    \n",
      "    # Begin the evolution\n",
      "    for g in range(NGEN):\n",
      "        print('-- Generation {} --'.format(g))\n",
      "        \n",
      "        # Select the next generation\n",
      "        offspring = toolbox.select(pop, len(pop))\n",
      "        # Clone the selected individuals\n",
      "        offspring = list(map(toolbox.clone, offspring))\n",
      "        \n",
      "        # Apply crossover and mutation on the offspring\n",
      "        for child1, child2 in zip(offspring[::2], offspring[1::2]):\n",
      "            if random.random() < CXPB:\n",
      "                toolbox.mate(child1, child2)\n",
      "                del child1.fitness.values\n",
      "                del child2.fitness.values\n",
      "        \n",
      "        for mutant in offspring:\n",
      "            if random.random() < MUTPB:\n",
      "                toolbox.mutate(mutant)\n",
      "                del mutant.fitness.values\n",
      "                \n",
      "        # Evaluate the individuals with an invalid fitness\n",
      "        invalid_ind = [ind for ind in offspring if not ind.fitness.valid]\n",
      "        fitnesses = list(map(toolbox.evaluate, invalid_ind))\n",
      "        for ind, fit in zip(invalid_ind, fitnesses):\n",
      "            ind.fitness.values = fit\n",
      "            \n",
      "        pop[:] = offspring\n",
      "        \n",
      "        # Gather all the ditnesses in one list and print the stats\n",
      "        fits = [ind.fitness.values[0] for ind in pop]\n",
      "        \n",
      "        length = len(pop)\n",
      "        mean = sum(fits) /length\n",
      "        sum2 = sum(x*x for x in fits)\n",
      "        std = abs(sum2 / length - mean**2)**0.5\n",
      "        \n",
      "        print('  Min {}\\n  Max {}\\n  Avg {}\\n  Std {}'.format(min(fits), max(fits), mean, std))\n",
      "        \n",
      "        if max(fits) == 100:\n",
      "            break"
     ],
     "language": "python",
     "metadata": {},
     "outputs": [],
     "prompt_number": 46
    },
    {
     "cell_type": "code",
     "collapsed": false,
     "input": [
      "NGEN = 100\n",
      "CXPB = 0.5\n",
      "MUTPB = 0.25\n",
      "\n",
      "if __name__ == '__main__':\n",
      "    main()"
     ],
     "language": "python",
     "metadata": {},
     "outputs": [
      {
       "output_type": "stream",
       "stream": "stdout",
       "text": [
        "-- Generation 0 --\n",
        "  Min 43.0\n",
        "  Max 69.0\n",
        "  Avg 54.42333333333333\n",
        "  Std 4.641564630835392"
       ]
      },
      {
       "output_type": "stream",
       "stream": "stdout",
       "text": [
        "\n",
        "-- Generation 1 --\n",
        "  Min 48.0\n",
        "  Max 67.0\n",
        "  Avg 58.016666666666666\n",
        "  Std 3.8647624621558325"
       ]
      },
      {
       "output_type": "stream",
       "stream": "stdout",
       "text": [
        "\n",
        "-- Generation 2 --\n",
        "  Min 50.0\n",
        "  Max 70.0\n",
        "  Avg 60.82333333333333\n",
        "  Std 3.302340920552543"
       ]
      },
      {
       "output_type": "stream",
       "stream": "stdout",
       "text": [
        "\n",
        "-- Generation 3 --\n",
        "  Min 53.0\n",
        "  Max 73.0\n",
        "  Avg 63.17333333333333\n",
        "  Std 3.115010255021465"
       ]
      },
      {
       "output_type": "stream",
       "stream": "stdout",
       "text": [
        "\n",
        "-- Generation 4 --\n",
        "  Min 56.0\n",
        "  Max 74.0\n",
        "  Avg 65.27\n",
        "  Std 3.008393812873206"
       ]
      },
      {
       "output_type": "stream",
       "stream": "stdout",
       "text": [
        "\n",
        "-- Generation 5 --\n",
        "  Min 58.0\n",
        "  Max 75.0\n",
        "  Avg 67.08333333333333\n",
        "  Std 2.989379348441624"
       ]
      },
      {
       "output_type": "stream",
       "stream": "stdout",
       "text": [
        "\n",
        "-- Generation 6 --\n",
        "  Min 59.0\n",
        "  Max 75.0\n",
        "  Avg 68.69666666666667\n",
        "  Std 2.7297110144154964"
       ]
      },
      {
       "output_type": "stream",
       "stream": "stdout",
       "text": [
        "\n",
        "-- Generation 7 --\n",
        "  Min 61.0\n",
        "  Max 78.0\n",
        "  Avg 70.62333333333333\n",
        "  Std 2.512924369910259"
       ]
      },
      {
       "output_type": "stream",
       "stream": "stdout",
       "text": [
        "\n",
        "-- Generation 8 --\n",
        "  Min 63.0\n",
        "  Max 80.0\n",
        "  Avg 72.06\n",
        "  Std 2.979328783467864"
       ]
      },
      {
       "output_type": "stream",
       "stream": "stdout",
       "text": [
        "\n",
        "-- Generation 9 --\n",
        "  Min 66.0\n",
        "  Max 81.0\n",
        "  Avg 74.08\n",
        "  Std 2.768922774895297"
       ]
      },
      {
       "output_type": "stream",
       "stream": "stdout",
       "text": [
        "\n",
        "-- Generation 10 --\n",
        "  Min 67.0\n",
        "  Max 81.0\n",
        "  Avg 75.61333333333333\n",
        "  Std 2.614795509319211"
       ]
      },
      {
       "output_type": "stream",
       "stream": "stdout",
       "text": [
        "\n",
        "-- Generation 11 --\n",
        "  Min 66.0\n",
        "  Max 84.0\n",
        "  Avg 76.98333333333333\n",
        "  Std 2.626097654103593"
       ]
      },
      {
       "output_type": "stream",
       "stream": "stdout",
       "text": [
        "\n",
        "-- Generation 12 --\n",
        "  Min 69.0\n",
        "  Max 84.0\n",
        "  Avg 78.07666666666667\n",
        "  Std 2.4625438518373777"
       ]
      },
      {
       "output_type": "stream",
       "stream": "stdout",
       "text": [
        "\n",
        "-- Generation 13 --\n",
        "  Min 71.0\n",
        "  Max 84.0\n",
        "  Avg 79.03666666666666\n",
        "  Std 2.592679866256038"
       ]
      },
      {
       "output_type": "stream",
       "stream": "stdout",
       "text": [
        "\n",
        "-- Generation 14 --\n",
        "  Min 71.0\n",
        "  Max 87.0\n",
        "  Avg 80.32\n",
        "  Std 2.573765076044744"
       ]
      },
      {
       "output_type": "stream",
       "stream": "stdout",
       "text": [
        "\n",
        "-- Generation 15 --\n",
        "  Min 71.0\n",
        "  Max 88.0\n",
        "  Avg 81.29333333333334\n",
        "  Std 2.7953453374413986"
       ]
      },
      {
       "output_type": "stream",
       "stream": "stdout",
       "text": [
        "\n",
        "-- Generation 16 --\n",
        "  Min 75.0\n",
        "  Max 89.0\n",
        "  Avg 82.72333333333333\n",
        "  Std 2.5858826131303947"
       ]
      },
      {
       "output_type": "stream",
       "stream": "stdout",
       "text": [
        "\n",
        "-- Generation 17 --\n",
        "  Min 76.0\n",
        "  Max 89.0\n",
        "  Avg 83.99\n",
        "  Std 2.422787650620788"
       ]
      },
      {
       "output_type": "stream",
       "stream": "stdout",
       "text": [
        "\n",
        "-- Generation 18 --\n",
        "  Min 72.0\n",
        "  Max 91.0\n",
        "  Avg 84.83666666666667\n",
        "  Std 2.874599489010804"
       ]
      },
      {
       "output_type": "stream",
       "stream": "stdout",
       "text": [
        "\n",
        "-- Generation 19 --\n",
        "  Min 78.0\n",
        "  Max 93.0\n",
        "  Avg 86.31333333333333\n",
        "  Std 2.544632695607545"
       ]
      },
      {
       "output_type": "stream",
       "stream": "stdout",
       "text": [
        "\n",
        "-- Generation 20 --\n",
        "  Min 77.0\n",
        "  Max 93.0\n",
        "  Avg 87.43666666666667\n",
        "  Std 2.325078254358058"
       ]
      },
      {
       "output_type": "stream",
       "stream": "stdout",
       "text": [
        "\n",
        "-- Generation 21 --\n",
        "  Min 80.0\n",
        "  Max 94.0\n",
        "  Avg 88.27666666666667\n",
        "  Std 2.5179599326083406"
       ]
      },
      {
       "output_type": "stream",
       "stream": "stdout",
       "text": [
        "\n",
        "-- Generation 22 --\n",
        "  Min 79.0\n",
        "  Max 94.0\n",
        "  Avg 89.23\n",
        "  Std 2.5606835025045718"
       ]
      },
      {
       "output_type": "stream",
       "stream": "stdout",
       "text": [
        "\n",
        "-- Generation 23 --\n",
        "  Min 79.0\n",
        "  Max 95.0\n",
        "  Avg 90.08666666666667\n",
        "  Std 2.555873410184493"
       ]
      },
      {
       "output_type": "stream",
       "stream": "stdout",
       "text": [
        "\n",
        "-- Generation 24 --\n",
        "  Min 82.0\n",
        "  Max 96.0\n",
        "  Avg 91.1\n",
        "  Std 2.5"
       ]
      },
      {
       "output_type": "stream",
       "stream": "stdout",
       "text": [
        "\n",
        "-- Generation 25 --\n",
        "  Min 82.0\n",
        "  Max 96.0\n",
        "  Avg 91.93\n",
        "  Std 2.4721987514488113"
       ]
      },
      {
       "output_type": "stream",
       "stream": "stdout",
       "text": [
        "\n",
        "-- Generation 26 --\n",
        "  Min 83.0\n",
        "  Max 96.0\n",
        "  Avg 92.51333333333334\n",
        "  Std 2.5774319691420557"
       ]
      },
      {
       "output_type": "stream",
       "stream": "stdout",
       "text": [
        "\n",
        "-- Generation 27 --\n",
        "  Min 82.0\n",
        "  Max 96.0\n",
        "  Avg 93.21666666666667\n",
        "  Std 2.5251512605956816"
       ]
      },
      {
       "output_type": "stream",
       "stream": "stdout",
       "text": [
        "\n",
        "-- Generation 28 --\n",
        "  Min 85.0\n",
        "  Max 98.0\n",
        "  Avg 93.93666666666667\n",
        "  Std 2.3817337289369793"
       ]
      },
      {
       "output_type": "stream",
       "stream": "stdout",
       "text": [
        "\n",
        "-- Generation 29 --\n",
        "  Min 87.0\n",
        "  Max 98.0\n",
        "  Avg 94.45666666666666\n",
        "  Std 2.305382590567277"
       ]
      },
      {
       "output_type": "stream",
       "stream": "stdout",
       "text": [
        "\n",
        "-- Generation 30 --\n",
        "  Min 87.0\n",
        "  Max 99.0\n",
        "  Avg 94.72\n",
        "  Std 2.3695850550959747"
       ]
      },
      {
       "output_type": "stream",
       "stream": "stdout",
       "text": [
        "\n",
        "-- Generation 31 --\n",
        "  Min 86.0\n",
        "  Max 99.0\n",
        "  Avg 95.40333333333334\n",
        "  Std 2.3806138330736526"
       ]
      },
      {
       "output_type": "stream",
       "stream": "stdout",
       "text": [
        "\n",
        "-- Generation 32 --\n",
        "  Min 85.0\n",
        "  Max 99.0\n",
        "  Avg 95.65\n",
        "  Std 2.6609835274449614"
       ]
      },
      {
       "output_type": "stream",
       "stream": "stdout",
       "text": [
        "\n",
        "-- Generation 33 --\n",
        "  Min 87.0\n",
        "  Max 99.0\n",
        "  Avg 96.06666666666666\n",
        "  Std 2.5447112911991883"
       ]
      },
      {
       "output_type": "stream",
       "stream": "stdout",
       "text": [
        "\n",
        "-- Generation 34 --\n",
        "  Min 87.0\n",
        "  Max 99.0\n",
        "  Avg 96.27666666666667\n",
        "  Std 2.5046867180456704"
       ]
      },
      {
       "output_type": "stream",
       "stream": "stdout",
       "text": [
        "\n",
        "-- Generation 35 --\n",
        "  Min 88.0\n",
        "  Max 100.0\n",
        "  Avg 96.83666666666667\n",
        "  Std 2.4406260581158024"
       ]
      },
      {
       "output_type": "stream",
       "stream": "stdout",
       "text": [
        "\n"
       ]
      }
     ],
     "prompt_number": 55
    }
   ],
   "metadata": {}
  }
 ]
}