{
 "metadata": {
  "name": "",
  "signature": "sha256:9d81e0e60b76f24a024ec18b94adba512f1a331d0a1dd9609b785f4779e15daf"
 },
 "nbformat": 3,
 "nbformat_minor": 0,
 "worksheets": [
  {
   "cells": [
    {
     "cell_type": "markdown",
     "metadata": {},
     "source": [
      "We search for a 1 filled list individual."
     ]
    },
    {
     "cell_type": "code",
     "collapsed": false,
     "input": [
      "import random\n",
      "\n",
      "from deap import base\n",
      "from deap import creator\n",
      "from deap import tools"
     ],
     "language": "python",
     "metadata": {},
     "outputs": [],
     "prompt_number": 2
    },
    {
     "cell_type": "code",
     "collapsed": false,
     "input": [
      "creator.create('FitnessMax', base.Fitness, weights=(1.0,))\n",
      "creator.create('Individual', list, fitness=creator.FitnessMax)"
     ],
     "language": "python",
     "metadata": {},
     "outputs": [],
     "prompt_number": 3
    },
    {
     "cell_type": "code",
     "collapsed": false,
     "input": [
      "toolbox = base.Toolbox()\n",
      "# Attribute generator\n",
      "toolbox.register('attr_bool', random.randint, 0, 1)\n",
      "# Structure initializers\n",
      "toolbox.register('individual', tools.initRepeat, creator.Individual,\n",
      "                 toolbox.attr_bool, 100)\n",
      "toolbox.register('population', tools.initRepeat, list, toolbox.individual)"
     ],
     "language": "python",
     "metadata": {},
     "outputs": [],
     "prompt_number": 4
    },
    {
     "cell_type": "code",
     "collapsed": false,
     "input": [
      "# Evaluation function\n",
      "def evalOneMax(individual):\n",
      "    return sum(individual),"
     ],
     "language": "python",
     "metadata": {},
     "outputs": [],
     "prompt_number": 5
    },
    {
     "cell_type": "code",
     "collapsed": false,
     "input": [
      "toolbox.register('evaluate', evalOneMax)\n",
      "toolbox.register('mate', tools.cxTwoPoint)\n",
      "toolbox.register('mutate', tools.mutFlipBit, indpb=0.05)\n",
      "toolbox.register('select', tools.selTournament, tournsize=3)"
     ],
     "language": "python",
     "metadata": {},
     "outputs": [],
     "prompt_number": 6
    },
    {
     "cell_type": "code",
     "collapsed": false,
     "input": [
      "def main():\n",
      "    \n",
      "    pop = toolbox.population(n=300)\n",
      "    \n",
      "    # Evaluate the entire population\n",
      "    fitness = list(map(toolbox.evaluate, pop))\n",
      "    for ind, fit in zip(pop, fitness):\n",
      "        ind.fitness.values = fit\n",
      "    \n",
      "    # Begin the evolution\n",
      "    for g in range(NGEN):\n",
      "        print('-- Generation {} --'.format(g))\n",
      "        \n",
      "        # Select the next generation\n",
      "        offspring = toolbox.select(pop, len(pop))\n",
      "        # Clone the selected individuals\n",
      "        offspring = list(map(toolbox.clone, offspring))\n",
      "        \n",
      "        # Apply crossover and mutation on the offspring\n",
      "        for child1, child2 in zip(offspring[::2], offspring[1::2]):\n",
      "            if random.random() < CXPB:\n",
      "                toolbox.mate(child1, child2)\n",
      "                del child1.fitness.values\n",
      "                del child2.fitness.values\n",
      "        \n",
      "        for mutant in offspring:\n",
      "            if random.random() < MUTPB:\n",
      "                toolbox.mutate(mutant)\n",
      "                del mutant.fitness.values\n",
      "                \n",
      "        # Evaluate the individuals with an invalid fitness\n",
      "        invalid_ind = [ind for ind in offspring if not ind.fitness.valid]\n",
      "        fitnesses = list(map(toolbox.evaluate, invalid_ind))\n",
      "        for ind, fit in zip(invalid_ind, fitnesses):\n",
      "            ind.fitness.values = fit\n",
      "            \n",
      "        pop[:] = offspring\n",
      "        \n",
      "        # Gather all the ditnesses in one list and print the stats\n",
      "        fits = [ind.fitness.values[0] for ind in pop]\n",
      "        \n",
      "        length = len(pop)\n",
      "        mean = sum(fits) /length\n",
      "        sum2 = sum(x*x for x in fits)\n",
      "        std = abs(sum2 / length - mean**2)**0.5\n",
      "        \n",
      "        print('  Min {}\\n  Max {}\\n  Avg {}\\n  Std {}'.format(min(fits), max(fits), mean, std))\n",
      "        \n",
      "        if max(fits) == 100:\n",
      "            break"
     ],
     "language": "python",
     "metadata": {},
     "outputs": [],
     "prompt_number": 7
    },
    {
     "cell_type": "code",
     "collapsed": false,
     "input": [
      "NGEN = 100\n",
      "CXPB = 0.5\n",
      "MUTPB = 0.2\n",
      "\n",
      "if __name__ == '__main__':\n",
      "    main()"
     ],
     "language": "python",
     "metadata": {},
     "outputs": [
      {
       "output_type": "stream",
       "stream": "stdout",
       "text": [
        "-- Generation 0 --\n",
        "  Min 42.0\n",
        "  Max 64.0\n",
        "  Avg 53.81333333333333\n",
        "  Std 3.5942299437972784"
       ]
      },
      {
       "output_type": "stream",
       "stream": "stdout",
       "text": [
        "\n",
        "-- Generation 1 --\n",
        "  Min 48.0\n",
        "  Max 66.0\n",
        "  Avg 56.806666666666665\n",
        "  Std 3.1404812087039145"
       ]
      },
      {
       "output_type": "stream",
       "stream": "stdout",
       "text": [
        "\n",
        "-- Generation 2 --\n",
        "  Min 48.0\n",
        "  Max 72.0\n",
        "  Avg 59.28666666666667\n",
        "  Std 3.1577136595257445"
       ]
      },
      {
       "output_type": "stream",
       "stream": "stdout",
       "text": [
        "\n",
        "-- Generation 3 --\n",
        "  Min 51.0\n",
        "  Max 72.0\n",
        "  Avg 61.42\n",
        "  Std 3.421052469635598"
       ]
      },
      {
       "output_type": "stream",
       "stream": "stdout",
       "text": [
        "\n",
        "-- Generation 4 --\n",
        "  Min 55.0\n",
        "  Max 74.0\n",
        "  Avg 64.18666666666667\n",
        "  Std 3.2728920272783992"
       ]
      },
      {
       "output_type": "stream",
       "stream": "stdout",
       "text": [
        "\n",
        "-- Generation 5 --\n",
        "  Min 56.0\n",
        "  Max 76.0\n",
        "  Avg 66.56333333333333\n",
        "  Std 3.181088213524228"
       ]
      },
      {
       "output_type": "stream",
       "stream": "stdout",
       "text": [
        "\n",
        "-- Generation 6 --\n",
        "  Min 61.0\n",
        "  Max 77.0\n",
        "  Avg 68.8\n",
        "  Std 3.226969682741669"
       ]
      },
      {
       "output_type": "stream",
       "stream": "stdout",
       "text": [
        "\n",
        "-- Generation 7 --\n",
        "  Min 61.0\n",
        "  Max 80.0\n",
        "  Avg 71.31333333333333\n",
        "  Std 3.0036348350328654"
       ]
      },
      {
       "output_type": "stream",
       "stream": "stdout",
       "text": [
        "\n",
        "-- Generation 8 --\n",
        "  Min 64.0\n",
        "  Max 82.0\n",
        "  Avg 73.19\n",
        "  Std 2.685870436190052"
       ]
      },
      {
       "output_type": "stream",
       "stream": "stdout",
       "text": [
        "\n",
        "-- Generation 9 --\n",
        "  Min 63.0\n",
        "  Max 82.0\n",
        "  Avg 74.66666666666667\n",
        "  Std 2.7255988129010733"
       ]
      },
      {
       "output_type": "stream",
       "stream": "stdout",
       "text": [
        "\n",
        "-- Generation 10 --\n",
        "  Min 68.0\n",
        "  Max 83.0\n",
        "  Avg 76.46\n",
        "  Std 2.656137546639424"
       ]
      },
      {
       "output_type": "stream",
       "stream": "stdout",
       "text": [
        "\n",
        "-- Generation 11 --\n",
        "  Min 68.0\n",
        "  Max 85.0\n",
        "  Avg 78.21333333333334\n",
        "  Std 2.5379431742169407"
       ]
      },
      {
       "output_type": "stream",
       "stream": "stdout",
       "text": [
        "\n",
        "-- Generation 12 --\n",
        "  Min 70.0\n",
        "  Max 85.0\n",
        "  Avg 79.57333333333334\n",
        "  Std 2.604730738909785"
       ]
      },
      {
       "output_type": "stream",
       "stream": "stdout",
       "text": [
        "\n",
        "-- Generation 13 --\n",
        "  Min 73.0\n",
        "  Max 86.0\n",
        "  Avg 80.91666666666667\n",
        "  Std 2.478518822917103"
       ]
      },
      {
       "output_type": "stream",
       "stream": "stdout",
       "text": [
        "\n",
        "-- Generation 14 --\n",
        "  Min 75.0\n",
        "  Max 87.0\n",
        "  Avg 82.16\n",
        "  Std 2.3211491406917237"
       ]
      },
      {
       "output_type": "stream",
       "stream": "stdout",
       "text": [
        "\n",
        "-- Generation 15 --\n",
        "  Min 77.0\n",
        "  Max 88.0\n",
        "  Avg 83.32333333333334\n",
        "  Std 2.0765650055371876"
       ]
      },
      {
       "output_type": "stream",
       "stream": "stdout",
       "text": [
        "\n",
        "-- Generation 16 --\n",
        "  Min 77.0\n",
        "  Max 89.0\n",
        "  Avg 84.32\n",
        "  Std 2.0858890990016867"
       ]
      },
      {
       "output_type": "stream",
       "stream": "stdout",
       "text": [
        "\n",
        "-- Generation 17 --\n",
        "  Min 75.0\n",
        "  Max 91.0\n",
        "  Avg 84.98\n",
        "  Std 2.317958872226402"
       ]
      },
      {
       "output_type": "stream",
       "stream": "stdout",
       "text": [
        "\n",
        "-- Generation 18 --\n",
        "  Min 72.0\n",
        "  Max 91.0\n",
        "  Avg 85.84\n",
        "  Std 2.372284412403538"
       ]
      },
      {
       "output_type": "stream",
       "stream": "stdout",
       "text": [
        "\n",
        "-- Generation 19 --\n",
        "  Min 79.0\n",
        "  Max 92.0\n",
        "  Avg 86.54\n",
        "  Std 2.405909391477274"
       ]
      },
      {
       "output_type": "stream",
       "stream": "stdout",
       "text": [
        "\n",
        "-- Generation 20 --\n",
        "  Min 79.0\n",
        "  Max 93.0\n",
        "  Avg 87.58666666666667\n",
        "  Std 2.4240095342678334"
       ]
      },
      {
       "output_type": "stream",
       "stream": "stdout",
       "text": [
        "\n",
        "-- Generation 21 --\n",
        "  Min 79.0\n",
        "  Max 93.0\n",
        "  Avg 88.51666666666667\n",
        "  Std 2.385313862413576"
       ]
      },
      {
       "output_type": "stream",
       "stream": "stdout",
       "text": [
        "\n",
        "-- Generation 22 --\n",
        "  Min 80.0\n",
        "  Max 95.0\n",
        "  Avg 89.43\n",
        "  Std 2.375941918481767"
       ]
      },
      {
       "output_type": "stream",
       "stream": "stdout",
       "text": [
        "\n",
        "-- Generation 23 --\n",
        "  Min 82.0\n",
        "  Max 95.0\n",
        "  Avg 90.34666666666666\n",
        "  Std 2.2977863743661464"
       ]
      },
      {
       "output_type": "stream",
       "stream": "stdout",
       "text": [
        "\n",
        "-- Generation 24 --\n",
        "  Min 81.0\n",
        "  Max 95.0\n",
        "  Avg 91.16666666666667\n",
        "  Std 2.175367146534774"
       ]
      },
      {
       "output_type": "stream",
       "stream": "stdout",
       "text": [
        "\n",
        "-- Generation 25 --\n",
        "  Min 82.0\n",
        "  Max 96.0\n",
        "  Avg 91.87\n",
        "  Std 2.3465790703345366"
       ]
      },
      {
       "output_type": "stream",
       "stream": "stdout",
       "text": [
        "\n",
        "-- Generation 26 --\n",
        "  Min 83.0\n",
        "  Max 96.0\n",
        "  Avg 92.64666666666666\n",
        "  Std 2.0884975992859207"
       ]
      },
      {
       "output_type": "stream",
       "stream": "stdout",
       "text": [
        "\n",
        "-- Generation 27 --\n",
        "  Min 84.0\n",
        "  Max 96.0\n",
        "  Avg 93.29\n",
        "  Std 2.327924683775693"
       ]
      },
      {
       "output_type": "stream",
       "stream": "stdout",
       "text": [
        "\n",
        "-- Generation 28 --\n",
        "  Min 84.0\n",
        "  Max 97.0\n",
        "  Avg 93.64666666666666\n",
        "  Std 2.4890069416449996"
       ]
      },
      {
       "output_type": "stream",
       "stream": "stdout",
       "text": [
        "\n",
        "-- Generation 29 --\n",
        "  Min 84.0\n",
        "  Max 97.0\n",
        "  Avg 94.3\n",
        "  Std 2.3302360395462713"
       ]
      },
      {
       "output_type": "stream",
       "stream": "stdout",
       "text": [
        "\n",
        "-- Generation 30 --\n",
        "  Min 86.0\n",
        "  Max 97.0\n",
        "  Avg 94.77333333333333\n",
        "  Std 2.1668615296991156"
       ]
      },
      {
       "output_type": "stream",
       "stream": "stdout",
       "text": [
        "\n",
        "-- Generation 31 --\n",
        "  Min 86.0\n",
        "  Max 97.0\n",
        "  Avg 95.11\n",
        "  Std 2.1192530130529703"
       ]
      },
      {
       "output_type": "stream",
       "stream": "stdout",
       "text": [
        "\n",
        "-- Generation 32 --\n",
        "  Min 84.0\n",
        "  Max 97.0\n",
        "  Avg 95.23666666666666\n",
        "  Std 2.2761053480794464"
       ]
      },
      {
       "output_type": "stream",
       "stream": "stdout",
       "text": [
        "\n",
        "-- Generation 33 --\n",
        "  Min 85.0\n",
        "  Max 98.0\n",
        "  Avg 95.67333333333333\n",
        "  Std 2.073633418798065"
       ]
      },
      {
       "output_type": "stream",
       "stream": "stdout",
       "text": [
        "\n",
        "-- Generation 34 --\n",
        "  Min 85.0\n",
        "  Max 98.0\n",
        "  Avg 95.87333333333333\n",
        "  Std 2.1811210165619124"
       ]
      },
      {
       "output_type": "stream",
       "stream": "stdout",
       "text": [
        "\n",
        "-- Generation 35 --\n",
        "  Min 87.0\n",
        "  Max 98.0\n",
        "  Avg 96.08\n",
        "  Std 2.0494552121645744"
       ]
      },
      {
       "output_type": "stream",
       "stream": "stdout",
       "text": [
        "\n",
        "-- Generation 36 --\n",
        "  Min 87.0\n",
        "  Max 98.0\n",
        "  Avg 96.05333333333333\n",
        "  Std 2.187195058110624"
       ]
      },
      {
       "output_type": "stream",
       "stream": "stdout",
       "text": [
        "\n",
        "-- Generation 37 --\n",
        "  Min 85.0\n",
        "  Max 98.0\n",
        "  Avg 96.24333333333334\n",
        "  Std 2.2265344272105203"
       ]
      },
      {
       "output_type": "stream",
       "stream": "stdout",
       "text": [
        "\n",
        "-- Generation 38 --\n",
        "  Min 88.0\n",
        "  Max 98.0\n",
        "  Avg 96.49\n",
        "  Std 2.1205109447179264"
       ]
      },
      {
       "output_type": "stream",
       "stream": "stdout",
       "text": [
        "\n",
        "-- Generation 39 --\n",
        "  Min 88.0\n",
        "  Max 98.0\n",
        "  Avg 96.79666666666667\n",
        "  Std 2.2034795715466817"
       ]
      },
      {
       "output_type": "stream",
       "stream": "stdout",
       "text": [
        "\n",
        "-- Generation 40 --\n",
        "  Min 87.0\n",
        "  Max 98.0\n",
        "  Avg 96.76666666666667\n",
        "  Std 2.49377001523569"
       ]
      },
      {
       "output_type": "stream",
       "stream": "stdout",
       "text": [
        "\n",
        "-- Generation 41 --\n",
        "  Min 86.0\n",
        "  Max 98.0\n",
        "  Avg 97.17333333333333\n",
        "  Std 2.010793099473426"
       ]
      },
      {
       "output_type": "stream",
       "stream": "stdout",
       "text": [
        "\n",
        "-- Generation 42 --\n",
        "  Min 86.0\n",
        "  Max 98.0\n",
        "  Avg 96.96333333333334\n",
        "  Std 2.42802846404666"
       ]
      },
      {
       "output_type": "stream",
       "stream": "stdout",
       "text": [
        "\n",
        "-- Generation 43 --\n",
        "  Min 90.0\n",
        "  Max 98.0\n",
        "  Avg 97.11\n",
        "  Std 1.922992459683399"
       ]
      },
      {
       "output_type": "stream",
       "stream": "stdout",
       "text": [
        "\n",
        "-- Generation 44 --\n",
        "  Min 87.0\n",
        "  Max 98.0\n",
        "  Avg 96.89333333333333\n",
        "  Std 2.2543193109130293"
       ]
      },
      {
       "output_type": "stream",
       "stream": "stdout",
       "text": [
        "\n",
        "-- Generation 45 --\n",
        "  Min 89.0\n",
        "  Max 98.0\n",
        "  Avg 97.1\n",
        "  Std 2.0436894741295943"
       ]
      },
      {
       "output_type": "stream",
       "stream": "stdout",
       "text": [
        "\n",
        "-- Generation 46 --\n",
        "  Min 88.0\n",
        "  Max 98.0\n",
        "  Avg 97.13333333333334\n",
        "  Std 1.9888578520232116"
       ]
      },
      {
       "output_type": "stream",
       "stream": "stdout",
       "text": [
        "\n",
        "-- Generation 47 --\n",
        "  Min 87.0\n",
        "  Max 98.0\n",
        "  Avg 96.87666666666667\n",
        "  Std 2.239372431929932"
       ]
      },
      {
       "output_type": "stream",
       "stream": "stdout",
       "text": [
        "\n",
        "-- Generation 48 --\n",
        "  Min 87.0\n",
        "  Max 98.0\n",
        "  Avg 97.00666666666666\n",
        "  Std 2.1663999835878838"
       ]
      },
      {
       "output_type": "stream",
       "stream": "stdout",
       "text": [
        "\n",
        "-- Generation 49 --\n",
        "  Min 87.0\n",
        "  Max 99.0\n",
        "  Avg 96.94\n",
        "  Std 2.2941374559228653"
       ]
      },
      {
       "output_type": "stream",
       "stream": "stdout",
       "text": [
        "\n",
        "-- Generation 50 --\n",
        "  Min 86.0\n",
        "  Max 99.0\n",
        "  Avg 96.93\n",
        "  Std 2.2960328104504337"
       ]
      },
      {
       "output_type": "stream",
       "stream": "stdout",
       "text": [
        "\n",
        "-- Generation 51 --\n",
        "  Min 88.0\n",
        "  Max 99.0\n",
        "  Avg 96.99666666666667\n",
        "  Std 2.2083150942639396"
       ]
      },
      {
       "output_type": "stream",
       "stream": "stdout",
       "text": [
        "\n",
        "-- Generation 52 --\n",
        "  Min 84.0\n",
        "  Max 99.0\n",
        "  Avg 97.14666666666666\n",
        "  Std 2.2041980149003995"
       ]
      },
      {
       "output_type": "stream",
       "stream": "stdout",
       "text": [
        "\n",
        "-- Generation 53 --\n",
        "  Min 87.0\n",
        "  Max 99.0\n",
        "  Avg 97.36333333333333\n",
        "  Std 1.9877933047032577"
       ]
      },
      {
       "output_type": "stream",
       "stream": "stdout",
       "text": [
        "\n",
        "-- Generation 54 --\n",
        "  Min 89.0\n",
        "  Max 99.0\n",
        "  Avg 97.57333333333334\n",
        "  Std 2.167476771629948"
       ]
      },
      {
       "output_type": "stream",
       "stream": "stdout",
       "text": [
        "\n",
        "-- Generation 55 --\n",
        "  Min 89.0\n",
        "  Max 99.0\n",
        "  Avg 97.78\n",
        "  Std 2.213202807395929"
       ]
      },
      {
       "output_type": "stream",
       "stream": "stdout",
       "text": [
        "\n",
        "-- Generation 56 --\n",
        "  Min 88.0\n",
        "  Max 100.0\n",
        "  Avg 97.88333333333334\n",
        "  Std 2.180914690877926"
       ]
      },
      {
       "output_type": "stream",
       "stream": "stdout",
       "text": [
        "\n"
       ]
      }
     ],
     "prompt_number": 11
    }
   ],
   "metadata": {}
  }
 ]
}