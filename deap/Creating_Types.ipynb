{
 "metadata": {
  "name": "",
  "signature": "sha256:19dcdce55c33f9c98e3218ad2ab29b353db32e470bd0b713086d1c09882c740b"
 },
 "nbformat": 3,
 "nbformat_minor": 0,
 "worksheets": [
  {
   "cells": [
    {
     "cell_type": "heading",
     "level": 1,
     "metadata": {},
     "source": [
      "Creando los Tipos"
     ]
    },
    {
     "cell_type": "heading",
     "level": 3,
     "metadata": {},
     "source": [
      "Fitness"
     ]
    },
    {
     "cell_type": "markdown",
     "metadata": {},
     "source": [
      "FitnessMax: Es la funcion que determina el desempe\u00f1o de un individuo"
     ]
    },
    {
     "cell_type": "heading",
     "level": 2,
     "metadata": {},
     "source": [
      "Individuo"
     ]
    },
    {
     "cell_type": "heading",
     "level": 3,
     "metadata": {},
     "source": [
      "Lista de flotantes"
     ]
    },
    {
     "cell_type": "markdown",
     "metadata": {},
     "source": [
      "Un simple individuo creado con una lista que tiene flotantes"
     ]
    },
    {
     "cell_type": "code",
     "collapsed": false,
     "input": [
      "import random\n",
      "\n",
      "from deap import base\n",
      "from deap import creator\n",
      "from deap import tools\n",
      "\n",
      "creator.create('FitnessMax', base.Fitness, weights=(1.0,))\n",
      "creator.create('Individual', list, fitness=creator.FitnessMax)\n",
      "\n",
      "IND_SIZE = 10\n",
      "\n",
      "toolbox = base.Toolbox()\n",
      "toolbox.register('attr_float', random.random)\n",
      "toolbox.register('individual', tools.initRepeat, creator.Individual, toolbox.attr_float, n=IND_SIZE)"
     ],
     "language": "python",
     "metadata": {},
     "outputs": [],
     "prompt_number": 2
    },
    {
     "cell_type": "heading",
     "level": 3,
     "metadata": {},
     "source": [
      "Permutacion"
     ]
    },
    {
     "cell_type": "markdown",
     "metadata": {},
     "source": [
      "Muy similar a la lista, la \u00fanica diferencia es que en lugar de llenar la lista con una serie de flotantes, se necesita generar una permutaci\u00f3n aleatoria y d\u00e1rsela al individuo"
     ]
    },
    {
     "cell_type": "code",
     "collapsed": false,
     "input": [
      "import random\n",
      "\n",
      "from deap import base\n",
      "from deap import creator\n",
      "from deap import tools\n",
      "\n",
      "creator.create('FitnessMin', base.Fitness, weights=(-1.0,))\n",
      "creator.create('Individual', list, fitness=creator.FitnessMin)\n",
      "\n",
      "IND_SIZE=10\n",
      "\n",
      "toolbox = base.Toolbox()\n",
      "toolbox.register('indices', random.sample, range(IND_SIZE), IND_SIZE)\n",
      "toolbox.register('individual', tools.initIterate, creator.Individual, toolbox.indices)"
     ],
     "language": "python",
     "metadata": {},
     "outputs": [],
     "prompt_number": 8
    },
    {
     "cell_type": "heading",
     "level": 3,
     "metadata": {},
     "source": [
      "Expresi\u00f3n Aritm\u00e9tica"
     ]
    },
    {
     "cell_type": "markdown",
     "metadata": {},
     "source": [
      "Un arbol de expresiones matem\u00e1ticas. Se tiene que definir un PrimitiveSet que contenga todos los posibles operadores que el individuo puede usar. El conjunto se llama MAIN y tiene una sola variable arity(el n\u00famero de valores que acepta una operaci\u00f3n)."
     ]
    },
    {
     "cell_type": "code",
     "collapsed": false,
     "input": [
      "import operator\n",
      "\n",
      "from deap import base\n",
      "from deap import creator\n",
      "from deap import gp\n",
      "from deap import tools\n",
      "\n",
      "pset = gp.PrimitiveSet('MAIN', arity=1)\n",
      "pset.addPrimitive(operator.add, 2)\n",
      "pset.addPrimitive(operator.sub, 2)\n",
      "pset.addPrimitive(operator.mul, 2)\n",
      "\n",
      "creator.create('FitnessMin', base.Fitness, weights=(-1.0,))\n",
      "creator.create('Individual', gp.PrimitiveTree, fitness=creator.FitnessMin, pset=pset)\n",
      "\n",
      "toolbox = base.Toolbox()\n",
      "toolbox.register('expr', gp.genHalfAndHalf, pset=pset, min_=1, max_=2)\n",
      "toolbox.register('individual', tools.initIterate, creator.Individual, toolbox.expr)"
     ],
     "language": "python",
     "metadata": {},
     "outputs": [],
     "prompt_number": 14
    },
    {
     "cell_type": "heading",
     "level": 3,
     "metadata": {},
     "source": [
      "Estrategia de evoluci\u00f3n"
     ]
    },
    {
     "cell_type": "markdown",
     "metadata": {},
     "source": [
      "Son un poco diferentes ya que tienen generalmente dos listas, una que representa al individuo y otra sus par\u00e1metros de mutaci\u00f3n (individuo, estrategia). Como no existe una funci\u00f3n que genere dos vectores diferentes en un solo objeto, debemos crear esta funci\u00f3n nosotros."
     ]
    },
    {
     "cell_type": "code",
     "collapsed": false,
     "input": [
      "import array\n",
      "import random\n",
      "\n",
      "from deap import base\n",
      "from deap import creator\n",
      "from deap import tools\n",
      "\n",
      "creator.create('FitnessMin', base.Fitness, weights=(-1.0,))\n",
      "creator.create('Individual', array.array, typecode=\"d\", fitness=creator.FitnessMin, strategy=None)\n",
      "creator.create('Strategy', array.array, typecode=\"d\")\n",
      "\n",
      "def initES(icls, scls, size, imin, imax, smin, smax):\n",
      "    ind = icls(random.uniform(imin,imax) for _ in range(size))\n",
      "    ind.strategy = scls(random.uniform(smin, smax) for _ in range(size))\n",
      "    return ind\n",
      "\n",
      "IND_SIZE = 10\n",
      "MIN_VALUE, MAX_VALUE = -5., 5.\n",
      "MIN_STRAT, MAX_STRAT = -1., 1.\n",
      "\n",
      "toolbox = base.Toolbox()\n",
      "toolbox.register('individual', initES, creator.Individual,\n",
      "                 creator.Strategy, IND_SIZE, MIN_VALUE, MAX_VALUE,\n",
      "                 MIN_STRAT, MAX_STRAT)"
     ],
     "language": "python",
     "metadata": {},
     "outputs": [],
     "prompt_number": 3
    }
   ],
   "metadata": {}
  }
 ]
}